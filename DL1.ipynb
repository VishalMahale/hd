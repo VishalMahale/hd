{
  "nbformat": 4,
  "nbformat_minor": 0,
  "metadata": {
    "colab": {
      "provenance": []
    },
    "kernelspec": {
      "name": "python3",
      "display_name": "Python 3"
    },
    "language_info": {
      "name": "python"
    }
  },
  "cells": [
    {
      "cell_type": "code",
      "execution_count": 1,
      "metadata": {
        "id": "aE4ChMGYc9Hi"
      },
      "outputs": [],
      "source": [
        "import pandas as pd\n",
        "import numpy as np\n",
        "from sklearn.model_selection import train_test_split"
      ]
    },
    {
      "cell_type": "code",
      "source": [
        "df = pd.read_csv('BostonHousingData.csv')"
      ],
      "metadata": {
        "id": "1-O2pvl9dt22"
      },
      "execution_count": 4,
      "outputs": []
    },
    {
      "cell_type": "code",
      "source": [
        "df"
      ],
      "metadata": {
        "id": "HemgLGgCd7wn"
      },
      "execution_count": null,
      "outputs": []
    },
    {
      "cell_type": "code",
      "source": [
        "x = df.drop('MEDV',axis = 1).values\n",
        "y = df['MEDV'].values"
      ],
      "metadata": {
        "id": "CBQXtu_YeDbJ"
      },
      "execution_count": 6,
      "outputs": []
    },
    {
      "cell_type": "code",
      "source": [
        "x.shape"
      ],
      "metadata": {
        "colab": {
          "base_uri": "https://localhost:8080/"
        },
        "id": "7qXLBFA8eZRq",
        "outputId": "ceb5e1ab-79c0-4066-85d9-65d2f43cbc8c"
      },
      "execution_count": 7,
      "outputs": [
        {
          "output_type": "execute_result",
          "data": {
            "text/plain": [
              "(506, 13)"
            ]
          },
          "metadata": {},
          "execution_count": 7
        }
      ]
    },
    {
      "cell_type": "code",
      "source": [
        "y.shape"
      ],
      "metadata": {
        "colab": {
          "base_uri": "https://localhost:8080/"
        },
        "id": "rPHb9cwZedJ1",
        "outputId": "1565f0a8-30af-449c-d5cd-948e9a319426"
      },
      "execution_count": 8,
      "outputs": [
        {
          "output_type": "execute_result",
          "data": {
            "text/plain": [
              "(506,)"
            ]
          },
          "metadata": {},
          "execution_count": 8
        }
      ]
    },
    {
      "cell_type": "code",
      "source": [
        "x_train,x_test,y_train,y_test = train_test_split(x,y,test_size = 0.2)"
      ],
      "metadata": {
        "id": "dAj-oZMvefhw"
      },
      "execution_count": 9,
      "outputs": []
    },
    {
      "cell_type": "code",
      "source": [
        "mean = x_train.mean(axis = 0)\n",
        "std = x_train.std(axis = 0)\n",
        "x_train = (x_train-mean)/std\n",
        "x_test = (x_test-mean)/std"
      ],
      "metadata": {
        "id": "grzDEEgie1xh"
      },
      "execution_count": 11,
      "outputs": []
    },
    {
      "cell_type": "code",
      "source": [
        "x_train[0]"
      ],
      "metadata": {
        "colab": {
          "base_uri": "https://localhost:8080/"
        },
        "id": "Gmsx8k9LfZ2e",
        "outputId": "ddb2dbcc-b1a3-4cf9-f641-33deb52ec98f"
      },
      "execution_count": 12,
      "outputs": [
        {
          "output_type": "execute_result",
          "data": {
            "text/plain": [
              "array([-0.2649786 , -0.47305411,  1.21176457,  3.73670483,  0.45856006,\n",
              "       -0.05611103,  0.87827728, -0.95115283, -0.52688542, -0.04714849,\n",
              "       -1.89447008, -0.18471253, -1.00433289])"
            ]
          },
          "metadata": {},
          "execution_count": 12
        }
      ]
    },
    {
      "cell_type": "code",
      "source": [
        "y_train[0]"
      ],
      "metadata": {
        "colab": {
          "base_uri": "https://localhost:8080/"
        },
        "id": "fwukYI0Xfczt",
        "outputId": "52ebf68a-8322-4058-8aef-e86d2b2f7ae9"
      },
      "execution_count": 13,
      "outputs": [
        {
          "output_type": "execute_result",
          "data": {
            "text/plain": [
              "27.0"
            ]
          },
          "metadata": {},
          "execution_count": 13
        }
      ]
    },
    {
      "cell_type": "code",
      "source": [
        "from tensorflow.keras.models import Sequential\n",
        "from tensorflow.keras.layers import Dense"
      ],
      "metadata": {
        "id": "sRTVvOkrfiPF"
      },
      "execution_count": 16,
      "outputs": []
    },
    {
      "cell_type": "code",
      "source": [
        "model = Sequential()\n",
        "model.add(Dense(128,activation = 'relu',input_shape=(x_train[0].shape)))\n",
        "model.add(Dense(64,activation = 'relu'))\n",
        "model.add(Dense(1,activation = 'linear'))\n",
        "model.compile(optimizer='adam',loss = 'mse',metrics=['mae'])\n",
        "model.summary()\n"
      ],
      "metadata": {
        "colab": {
          "base_uri": "https://localhost:8080/"
        },
        "id": "QQGM5Uorf9rh",
        "outputId": "29f31f8a-5d9f-43a7-8465-ffe43ca80d30"
      },
      "execution_count": 18,
      "outputs": [
        {
          "output_type": "stream",
          "name": "stdout",
          "text": [
            "Model: \"sequential_2\"\n",
            "_________________________________________________________________\n",
            " Layer (type)                Output Shape              Param #   \n",
            "=================================================================\n",
            " dense_6 (Dense)             (None, 128)               1792      \n",
            "                                                                 \n",
            " dense_7 (Dense)             (None, 64)                8256      \n",
            "                                                                 \n",
            " dense_8 (Dense)             (None, 1)                 65        \n",
            "                                                                 \n",
            "=================================================================\n",
            "Total params: 10,113\n",
            "Trainable params: 10,113\n",
            "Non-trainable params: 0\n",
            "_________________________________________________________________\n"
          ]
        }
      ]
    },
    {
      "cell_type": "code",
      "source": [
        "model.fit(x_train,y_train,epochs = 100,batch_size =1,verbose = 1,validation_data = (x_test,y_test))"
      ],
      "metadata": {
        "colab": {
          "base_uri": "https://localhost:8080/"
        },
        "id": "id6lrjcwjiA4",
        "outputId": "76849194-77a0-4661-980e-bc686e32b5f1"
      },
      "execution_count": 19,
      "outputs": [
        {
          "output_type": "stream",
          "name": "stdout",
          "text": [
            "Epoch 1/100\n",
            "404/404 [==============================] - 2s 2ms/step - loss: 115.3016 - mae: 7.3326 - val_loss: 32.0472 - val_mae: 3.7622\n",
            "Epoch 2/100\n",
            "404/404 [==============================] - 1s 2ms/step - loss: 17.8905 - mae: 3.0255 - val_loss: 22.0988 - val_mae: 3.2390\n",
            "Epoch 3/100\n",
            "404/404 [==============================] - 1s 2ms/step - loss: 15.4524 - mae: 2.7388 - val_loss: 19.1999 - val_mae: 2.9130\n",
            "Epoch 4/100\n",
            "404/404 [==============================] - 1s 2ms/step - loss: 13.4167 - mae: 2.5895 - val_loss: 17.4370 - val_mae: 2.7278\n",
            "Epoch 5/100\n",
            "404/404 [==============================] - 1s 2ms/step - loss: 12.3134 - mae: 2.4362 - val_loss: 16.0802 - val_mae: 2.7159\n",
            "Epoch 6/100\n",
            "404/404 [==============================] - 1s 2ms/step - loss: 11.3360 - mae: 2.3563 - val_loss: 13.9796 - val_mae: 2.6774\n",
            "Epoch 7/100\n",
            "404/404 [==============================] - 1s 2ms/step - loss: 11.8694 - mae: 2.3755 - val_loss: 14.1709 - val_mae: 2.7694\n",
            "Epoch 8/100\n",
            "404/404 [==============================] - 1s 2ms/step - loss: 11.0947 - mae: 2.3321 - val_loss: 16.5265 - val_mae: 2.8890\n",
            "Epoch 9/100\n",
            "404/404 [==============================] - 1s 2ms/step - loss: 11.2672 - mae: 2.4270 - val_loss: 14.8560 - val_mae: 2.6697\n",
            "Epoch 10/100\n",
            "404/404 [==============================] - 1s 2ms/step - loss: 9.4930 - mae: 2.1856 - val_loss: 18.2958 - val_mae: 3.2475\n",
            "Epoch 11/100\n",
            "404/404 [==============================] - 1s 3ms/step - loss: 9.2390 - mae: 2.1656 - val_loss: 13.7370 - val_mae: 2.4677\n",
            "Epoch 12/100\n",
            "404/404 [==============================] - 1s 3ms/step - loss: 9.5502 - mae: 2.2230 - val_loss: 13.0617 - val_mae: 2.5044\n",
            "Epoch 13/100\n",
            "404/404 [==============================] - 1s 2ms/step - loss: 9.0794 - mae: 2.1841 - val_loss: 16.9398 - val_mae: 2.8829\n",
            "Epoch 14/100\n",
            "404/404 [==============================] - 1s 2ms/step - loss: 8.9778 - mae: 2.1747 - val_loss: 11.7452 - val_mae: 2.4037\n",
            "Epoch 15/100\n",
            "404/404 [==============================] - 1s 2ms/step - loss: 8.6699 - mae: 2.0693 - val_loss: 13.2854 - val_mae: 2.8594\n",
            "Epoch 16/100\n",
            "404/404 [==============================] - 1s 2ms/step - loss: 7.6940 - mae: 1.9538 - val_loss: 11.5484 - val_mae: 2.5830\n",
            "Epoch 17/100\n",
            "404/404 [==============================] - 1s 2ms/step - loss: 7.8096 - mae: 2.0492 - val_loss: 10.8789 - val_mae: 2.3156\n",
            "Epoch 18/100\n",
            "404/404 [==============================] - 1s 2ms/step - loss: 8.1832 - mae: 2.0570 - val_loss: 9.7226 - val_mae: 2.2202\n",
            "Epoch 19/100\n",
            "404/404 [==============================] - 1s 2ms/step - loss: 7.5402 - mae: 1.9329 - val_loss: 12.3962 - val_mae: 2.5288\n",
            "Epoch 20/100\n",
            "404/404 [==============================] - 1s 2ms/step - loss: 7.5712 - mae: 1.9664 - val_loss: 11.8318 - val_mae: 2.3255\n",
            "Epoch 21/100\n",
            "404/404 [==============================] - 1s 2ms/step - loss: 7.0153 - mae: 1.9446 - val_loss: 10.6985 - val_mae: 2.2401\n",
            "Epoch 22/100\n",
            "404/404 [==============================] - 1s 2ms/step - loss: 7.1529 - mae: 1.9070 - val_loss: 10.2595 - val_mae: 2.3859\n",
            "Epoch 23/100\n",
            "404/404 [==============================] - 1s 2ms/step - loss: 6.4592 - mae: 1.8461 - val_loss: 11.0179 - val_mae: 2.5864\n",
            "Epoch 24/100\n",
            "404/404 [==============================] - 1s 2ms/step - loss: 7.1341 - mae: 1.8808 - val_loss: 8.9097 - val_mae: 2.2664\n",
            "Epoch 25/100\n",
            "404/404 [==============================] - 1s 2ms/step - loss: 6.5036 - mae: 1.8736 - val_loss: 10.3582 - val_mae: 2.2573\n",
            "Epoch 26/100\n",
            "404/404 [==============================] - 1s 3ms/step - loss: 6.6961 - mae: 1.8401 - val_loss: 11.7182 - val_mae: 2.3821\n",
            "Epoch 27/100\n",
            "404/404 [==============================] - 1s 3ms/step - loss: 6.4210 - mae: 1.8516 - val_loss: 10.5481 - val_mae: 2.3840\n",
            "Epoch 28/100\n",
            "404/404 [==============================] - 1s 2ms/step - loss: 6.2976 - mae: 1.8116 - val_loss: 9.1186 - val_mae: 2.3174\n",
            "Epoch 29/100\n",
            "404/404 [==============================] - 1s 2ms/step - loss: 5.9072 - mae: 1.7411 - val_loss: 10.2941 - val_mae: 2.2145\n",
            "Epoch 30/100\n",
            "404/404 [==============================] - 1s 2ms/step - loss: 5.8898 - mae: 1.7647 - val_loss: 8.7050 - val_mae: 2.2438\n",
            "Epoch 31/100\n",
            "404/404 [==============================] - 1s 2ms/step - loss: 5.5245 - mae: 1.6563 - val_loss: 9.9090 - val_mae: 2.3157\n",
            "Epoch 32/100\n",
            "404/404 [==============================] - 1s 2ms/step - loss: 5.2398 - mae: 1.6472 - val_loss: 9.7700 - val_mae: 2.2415\n",
            "Epoch 33/100\n",
            "404/404 [==============================] - 1s 2ms/step - loss: 5.7803 - mae: 1.6640 - val_loss: 9.1394 - val_mae: 2.2842\n",
            "Epoch 34/100\n",
            "404/404 [==============================] - 1s 2ms/step - loss: 5.8548 - mae: 1.7323 - val_loss: 15.5989 - val_mae: 3.2394\n",
            "Epoch 35/100\n",
            "404/404 [==============================] - 1s 2ms/step - loss: 6.0312 - mae: 1.7432 - val_loss: 9.6670 - val_mae: 2.2352\n",
            "Epoch 36/100\n",
            "404/404 [==============================] - 1s 2ms/step - loss: 5.5819 - mae: 1.7112 - val_loss: 11.3313 - val_mae: 2.4761\n",
            "Epoch 37/100\n",
            "404/404 [==============================] - 1s 2ms/step - loss: 5.7063 - mae: 1.7230 - val_loss: 9.7384 - val_mae: 2.2194\n",
            "Epoch 38/100\n",
            "404/404 [==============================] - 1s 2ms/step - loss: 5.5727 - mae: 1.6885 - val_loss: 8.6339 - val_mae: 2.2617\n",
            "Epoch 39/100\n",
            "404/404 [==============================] - 1s 2ms/step - loss: 5.2181 - mae: 1.6767 - val_loss: 9.8993 - val_mae: 2.4019\n",
            "Epoch 40/100\n",
            "404/404 [==============================] - 1s 2ms/step - loss: 6.0349 - mae: 1.7706 - val_loss: 9.8845 - val_mae: 2.3307\n",
            "Epoch 41/100\n",
            "404/404 [==============================] - 1s 3ms/step - loss: 4.9493 - mae: 1.6132 - val_loss: 10.3044 - val_mae: 2.2623\n",
            "Epoch 42/100\n",
            "404/404 [==============================] - 1s 3ms/step - loss: 5.4497 - mae: 1.6956 - val_loss: 9.6874 - val_mae: 2.2717\n",
            "Epoch 43/100\n",
            "404/404 [==============================] - 1s 2ms/step - loss: 4.8408 - mae: 1.6022 - val_loss: 8.1276 - val_mae: 2.0891\n",
            "Epoch 44/100\n",
            "404/404 [==============================] - 1s 2ms/step - loss: 4.8878 - mae: 1.5854 - val_loss: 7.9553 - val_mae: 2.0761\n",
            "Epoch 45/100\n",
            "404/404 [==============================] - 1s 2ms/step - loss: 4.9697 - mae: 1.6138 - val_loss: 11.2553 - val_mae: 2.5541\n",
            "Epoch 46/100\n",
            "404/404 [==============================] - 1s 2ms/step - loss: 4.9224 - mae: 1.5677 - val_loss: 15.5906 - val_mae: 2.8802\n",
            "Epoch 47/100\n",
            "404/404 [==============================] - 1s 2ms/step - loss: 4.4020 - mae: 1.5738 - val_loss: 7.9859 - val_mae: 2.0411\n",
            "Epoch 48/100\n",
            "404/404 [==============================] - 1s 2ms/step - loss: 5.0078 - mae: 1.6117 - val_loss: 18.1945 - val_mae: 3.0393\n",
            "Epoch 49/100\n",
            "404/404 [==============================] - 1s 2ms/step - loss: 5.2886 - mae: 1.6676 - val_loss: 10.0468 - val_mae: 2.3625\n",
            "Epoch 50/100\n",
            "404/404 [==============================] - 1s 2ms/step - loss: 4.4685 - mae: 1.5110 - val_loss: 8.8445 - val_mae: 2.1114\n",
            "Epoch 51/100\n",
            "404/404 [==============================] - 1s 2ms/step - loss: 4.2818 - mae: 1.4786 - val_loss: 9.8929 - val_mae: 2.3485\n",
            "Epoch 52/100\n",
            "404/404 [==============================] - 1s 2ms/step - loss: 4.1369 - mae: 1.5244 - val_loss: 8.7723 - val_mae: 2.2434\n",
            "Epoch 53/100\n",
            "404/404 [==============================] - 1s 2ms/step - loss: 4.1666 - mae: 1.5263 - val_loss: 7.6582 - val_mae: 2.0346\n",
            "Epoch 54/100\n",
            "404/404 [==============================] - 1s 2ms/step - loss: 4.5727 - mae: 1.5701 - val_loss: 7.9506 - val_mae: 2.0404\n",
            "Epoch 55/100\n",
            "404/404 [==============================] - 1s 2ms/step - loss: 4.3637 - mae: 1.4995 - val_loss: 7.4260 - val_mae: 1.9924\n",
            "Epoch 56/100\n",
            "404/404 [==============================] - 1s 3ms/step - loss: 4.2521 - mae: 1.5014 - val_loss: 8.0860 - val_mae: 2.2108\n",
            "Epoch 57/100\n",
            "404/404 [==============================] - 1s 3ms/step - loss: 4.0073 - mae: 1.4815 - val_loss: 11.5930 - val_mae: 2.7382\n",
            "Epoch 58/100\n",
            "404/404 [==============================] - 1s 3ms/step - loss: 4.2329 - mae: 1.5163 - val_loss: 10.0633 - val_mae: 2.4404\n",
            "Epoch 59/100\n",
            "404/404 [==============================] - 1s 2ms/step - loss: 4.0928 - mae: 1.5046 - val_loss: 9.3649 - val_mae: 2.1890\n",
            "Epoch 60/100\n",
            "404/404 [==============================] - 1s 2ms/step - loss: 3.7698 - mae: 1.4156 - val_loss: 8.6467 - val_mae: 2.1645\n",
            "Epoch 61/100\n",
            "404/404 [==============================] - 1s 2ms/step - loss: 3.8472 - mae: 1.4404 - val_loss: 8.5279 - val_mae: 2.1530\n",
            "Epoch 62/100\n",
            "404/404 [==============================] - 1s 2ms/step - loss: 4.2680 - mae: 1.4930 - val_loss: 11.6773 - val_mae: 2.4577\n",
            "Epoch 63/100\n",
            "404/404 [==============================] - 1s 2ms/step - loss: 3.7430 - mae: 1.4040 - val_loss: 9.3788 - val_mae: 2.1634\n",
            "Epoch 64/100\n",
            "404/404 [==============================] - 1s 2ms/step - loss: 3.6427 - mae: 1.4382 - val_loss: 8.8664 - val_mae: 2.1875\n",
            "Epoch 65/100\n",
            "404/404 [==============================] - 1s 2ms/step - loss: 3.4739 - mae: 1.4101 - val_loss: 7.6303 - val_mae: 2.0814\n",
            "Epoch 66/100\n",
            "404/404 [==============================] - 1s 2ms/step - loss: 3.7082 - mae: 1.4080 - val_loss: 8.5019 - val_mae: 2.2990\n",
            "Epoch 67/100\n",
            "404/404 [==============================] - 1s 2ms/step - loss: 3.6296 - mae: 1.4033 - val_loss: 9.6805 - val_mae: 2.1975\n",
            "Epoch 68/100\n",
            "404/404 [==============================] - 1s 2ms/step - loss: 3.9926 - mae: 1.4135 - val_loss: 8.8226 - val_mae: 2.1935\n",
            "Epoch 69/100\n",
            "404/404 [==============================] - 1s 2ms/step - loss: 3.7483 - mae: 1.4184 - val_loss: 7.0219 - val_mae: 2.1097\n",
            "Epoch 70/100\n",
            "404/404 [==============================] - 1s 2ms/step - loss: 3.4947 - mae: 1.3897 - val_loss: 7.7643 - val_mae: 2.0243\n",
            "Epoch 71/100\n",
            "404/404 [==============================] - 1s 2ms/step - loss: 3.4671 - mae: 1.3720 - val_loss: 8.7195 - val_mae: 2.1816\n",
            "Epoch 72/100\n",
            "404/404 [==============================] - 1s 2ms/step - loss: 3.3627 - mae: 1.2972 - val_loss: 10.3366 - val_mae: 2.3631\n",
            "Epoch 73/100\n",
            "404/404 [==============================] - 1s 3ms/step - loss: 3.7148 - mae: 1.4676 - val_loss: 7.1796 - val_mae: 1.9358\n",
            "Epoch 74/100\n",
            "404/404 [==============================] - 1s 2ms/step - loss: 3.2888 - mae: 1.3272 - val_loss: 10.6664 - val_mae: 2.5440\n",
            "Epoch 75/100\n",
            "404/404 [==============================] - 1s 2ms/step - loss: 3.1345 - mae: 1.2870 - val_loss: 12.7473 - val_mae: 2.6577\n",
            "Epoch 76/100\n",
            "404/404 [==============================] - 1s 2ms/step - loss: 3.0742 - mae: 1.3339 - val_loss: 8.9164 - val_mae: 2.3068\n",
            "Epoch 77/100\n",
            "404/404 [==============================] - 1s 2ms/step - loss: 3.3064 - mae: 1.3393 - val_loss: 7.1969 - val_mae: 1.9982\n",
            "Epoch 78/100\n",
            "404/404 [==============================] - 1s 2ms/step - loss: 3.0239 - mae: 1.2568 - val_loss: 9.5113 - val_mae: 2.2339\n",
            "Epoch 79/100\n",
            "404/404 [==============================] - 1s 2ms/step - loss: 3.1945 - mae: 1.3519 - val_loss: 8.6275 - val_mae: 2.1760\n",
            "Epoch 80/100\n",
            "404/404 [==============================] - 1s 2ms/step - loss: 2.8277 - mae: 1.2251 - val_loss: 7.0425 - val_mae: 1.9838\n",
            "Epoch 81/100\n",
            "404/404 [==============================] - 1s 2ms/step - loss: 2.9910 - mae: 1.2921 - val_loss: 8.2305 - val_mae: 2.0817\n",
            "Epoch 82/100\n",
            "404/404 [==============================] - 1s 2ms/step - loss: 2.9742 - mae: 1.2938 - val_loss: 8.9496 - val_mae: 2.0478\n",
            "Epoch 83/100\n",
            "404/404 [==============================] - 1s 2ms/step - loss: 2.9145 - mae: 1.2891 - val_loss: 7.9862 - val_mae: 2.0276\n",
            "Epoch 84/100\n",
            "404/404 [==============================] - 1s 2ms/step - loss: 2.7208 - mae: 1.2336 - val_loss: 7.0397 - val_mae: 1.9066\n",
            "Epoch 85/100\n",
            "404/404 [==============================] - 1s 2ms/step - loss: 3.2877 - mae: 1.3486 - val_loss: 8.9360 - val_mae: 2.2009\n",
            "Epoch 86/100\n",
            "404/404 [==============================] - 1s 2ms/step - loss: 2.9224 - mae: 1.2954 - val_loss: 7.2238 - val_mae: 1.9252\n",
            "Epoch 87/100\n",
            "404/404 [==============================] - 1s 2ms/step - loss: 2.5092 - mae: 1.1901 - val_loss: 7.6528 - val_mae: 2.0872\n",
            "Epoch 88/100\n",
            "404/404 [==============================] - 1s 3ms/step - loss: 2.7436 - mae: 1.1981 - val_loss: 6.7687 - val_mae: 1.9776\n",
            "Epoch 89/100\n",
            "404/404 [==============================] - 1s 3ms/step - loss: 3.3066 - mae: 1.3729 - val_loss: 7.2929 - val_mae: 2.0270\n",
            "Epoch 90/100\n",
            "404/404 [==============================] - 1s 2ms/step - loss: 2.8946 - mae: 1.2729 - val_loss: 7.8408 - val_mae: 1.9464\n",
            "Epoch 91/100\n",
            "404/404 [==============================] - 1s 2ms/step - loss: 2.7779 - mae: 1.2155 - val_loss: 8.5926 - val_mae: 2.0968\n",
            "Epoch 92/100\n",
            "404/404 [==============================] - 1s 2ms/step - loss: 2.5361 - mae: 1.1742 - val_loss: 7.7655 - val_mae: 2.0090\n",
            "Epoch 93/100\n",
            "404/404 [==============================] - 1s 2ms/step - loss: 2.8400 - mae: 1.2744 - val_loss: 8.3438 - val_mae: 2.0798\n",
            "Epoch 94/100\n",
            "404/404 [==============================] - 1s 2ms/step - loss: 2.4578 - mae: 1.1531 - val_loss: 10.7534 - val_mae: 2.3882\n",
            "Epoch 95/100\n",
            "404/404 [==============================] - 1s 2ms/step - loss: 2.3156 - mae: 1.1578 - val_loss: 8.4644 - val_mae: 2.1136\n",
            "Epoch 96/100\n",
            "404/404 [==============================] - 1s 2ms/step - loss: 2.6419 - mae: 1.2287 - val_loss: 8.2057 - val_mae: 2.2130\n",
            "Epoch 97/100\n",
            "404/404 [==============================] - 1s 2ms/step - loss: 2.7689 - mae: 1.2579 - val_loss: 8.4287 - val_mae: 2.1105\n",
            "Epoch 98/100\n",
            "404/404 [==============================] - 1s 2ms/step - loss: 2.4948 - mae: 1.1953 - val_loss: 9.3573 - val_mae: 2.1732\n",
            "Epoch 99/100\n",
            "404/404 [==============================] - 1s 2ms/step - loss: 2.0885 - mae: 1.0731 - val_loss: 9.4656 - val_mae: 2.2161\n",
            "Epoch 100/100\n",
            "404/404 [==============================] - 1s 2ms/step - loss: 2.4084 - mae: 1.1207 - val_loss: 9.0530 - val_mae: 2.1166\n"
          ]
        },
        {
          "output_type": "execute_result",
          "data": {
            "text/plain": [
              "<keras.callbacks.History at 0x7f5d3277a7a0>"
            ]
          },
          "metadata": {},
          "execution_count": 19
        }
      ]
    },
    {
      "cell_type": "code",
      "source": [
        "x_test[8]"
      ],
      "metadata": {
        "colab": {
          "base_uri": "https://localhost:8080/"
        },
        "id": "bfGU2e02krmT",
        "outputId": "b22e2ba2-3f26-44db-8570-ad6f60b075be"
      },
      "execution_count": 27,
      "outputs": [
        {
          "output_type": "execute_result",
          "data": {
            "text/plain": [
              "array([-0.40034805,  0.81102558, -0.91592429, -0.26761547, -1.09086124,\n",
              "        0.14519596, -2.16403502,  1.5210412 , -0.41268923, -0.65531427,\n",
              "       -0.97005635,  0.20141079, -1.04876116])"
            ]
          },
          "metadata": {},
          "execution_count": 27
        }
      ]
    },
    {
      "cell_type": "code",
      "source": [
        "print(\"Actual Output\",y_test[8])\n",
        "test_input = [[-0.40034805,  0.81102558, -0.91592429, -0.26761547, -1.09086124,\n",
        "        0.14519596, -2.16403502,  1.5210412 , -0.41268923, -0.65531427,\n",
        "       -0.97005635,  0.20141079, -1.04876116]]\n",
        "y_pred = model.predict(test_input)\n",
        "print(\"Predicted Output\",y_pred)"
      ],
      "metadata": {
        "colab": {
          "base_uri": "https://localhost:8080/"
        },
        "id": "6EadLM_4mPeC",
        "outputId": "45b2cb6f-3306-44d2-9557-5f4a8a37a665"
      },
      "execution_count": 31,
      "outputs": [
        {
          "output_type": "stream",
          "name": "stdout",
          "text": [
            "Actual Output 23.7\n",
            "1/1 [==============================] - 0s 38ms/step\n",
            "Predicted Output [[23.803143]]\n"
          ]
        }
      ]
    },
    {
      "cell_type": "code",
      "source": [
        "mse_nn,mae_nn = model.evaluate(x_test,y_test)\n",
        "print(\"mse\",mse_nn)\n",
        "print(\"mae\",mae_nn)"
      ],
      "metadata": {
        "colab": {
          "base_uri": "https://localhost:8080/"
        },
        "id": "Tk3d6aM4nbjy",
        "outputId": "48f554a2-2e87-4006-d64a-b9c2975e5b51"
      },
      "execution_count": 32,
      "outputs": [
        {
          "output_type": "stream",
          "name": "stdout",
          "text": [
            "4/4 [==============================] - 0s 3ms/step - loss: 9.0530 - mae: 2.1166\n",
            "mse 9.053011894226074\n",
            "mae 2.1166062355041504\n"
          ]
        }
      ]
    }
  ]
}