{
  "cells": [
    {
      "cell_type": "code",
      "execution_count": 87,
      "metadata": {
        "id": "msUdpb2OK1AG"
      },
      "outputs": [],
      "source": [
        "import pandas as pd\n",
        "import numpy as np\n",
        "from sklearn.model_selection import train_test_split"
      ]
    },
    {
      "cell_type": "code",
      "source": [
        "columns = [\"lettr\", \"x-box\", \"y-box\", \"width\", \"height\", \"onpix\", \"x-bar\",\"y-bar\", \"x2bar\", \"y2bar\", \"xybar\", \"x2ybr\", \"xy2br\", \"x-ege\", \"xegvy\",\"y-ege\", \"yegvx\"]"
      ],
      "metadata": {
        "id": "acdViKeRUoBf"
      },
      "execution_count": 88,
      "outputs": []
    },
    {
      "cell_type": "code",
      "execution_count": 89,
      "metadata": {
        "id": "fLGBXBzxNL0c"
      },
      "outputs": [],
      "source": [
        "df = pd.read_csv('/content/letter-recognition.data',names=columns)"
      ]
    },
    {
      "cell_type": "code",
      "execution_count": 90,
      "metadata": {
        "colab": {
          "base_uri": "https://localhost:8080/",
          "height": 423
        },
        "id": "_c_iN9cCNdRo",
        "outputId": "106dbefd-e38b-4bde-a901-8077344dfad6"
      },
      "outputs": [
        {
          "output_type": "execute_result",
          "data": {
            "text/plain": [
              "      lettr  x-box  y-box  width  height  onpix  x-bar  y-bar  x2bar  y2bar  \\\n",
              "0         T      2      8      3       5      1      8     13      0      6   \n",
              "1         I      5     12      3       7      2     10      5      5      4   \n",
              "2         D      4     11      6       8      6     10      6      2      6   \n",
              "3         N      7     11      6       6      3      5      9      4      6   \n",
              "4         G      2      1      3       1      1      8      6      6      6   \n",
              "...     ...    ...    ...    ...     ...    ...    ...    ...    ...    ...   \n",
              "19995     D      2      2      3       3      2      7      7      7      6   \n",
              "19996     C      7     10      8       8      4      4      8      6      9   \n",
              "19997     T      6      9      6       7      5      6     11      3      7   \n",
              "19998     S      2      3      4       2      1      8      7      2      6   \n",
              "19999     A      4      9      6       6      2      9      5      3      1   \n",
              "\n",
              "       xybar  x2ybr  xy2br  x-ege  xegvy  y-ege  yegvx  \n",
              "0          6     10      8      0      8      0      8  \n",
              "1         13      3      9      2      8      4     10  \n",
              "2         10      3      7      3      7      3      9  \n",
              "3          4      4     10      6     10      2      8  \n",
              "4          6      5      9      1      7      5     10  \n",
              "...      ...    ...    ...    ...    ...    ...    ...  \n",
              "19995      6      6      4      2      8      3      7  \n",
              "19996     12      9     13      2      9      3      7  \n",
              "19997     11      9      5      2     12      2      4  \n",
              "19998     10      6      8      1      9      5      8  \n",
              "19999      8      1      8      2      7      2      8  \n",
              "\n",
              "[20000 rows x 17 columns]"
            ],
            "text/html": [
              "\n",
              "  <div id=\"df-2915da94-4cfa-439e-82d2-93e31cd808c0\">\n",
              "    <div class=\"colab-df-container\">\n",
              "      <div>\n",
              "<style scoped>\n",
              "    .dataframe tbody tr th:only-of-type {\n",
              "        vertical-align: middle;\n",
              "    }\n",
              "\n",
              "    .dataframe tbody tr th {\n",
              "        vertical-align: top;\n",
              "    }\n",
              "\n",
              "    .dataframe thead th {\n",
              "        text-align: right;\n",
              "    }\n",
              "</style>\n",
              "<table border=\"1\" class=\"dataframe\">\n",
              "  <thead>\n",
              "    <tr style=\"text-align: right;\">\n",
              "      <th></th>\n",
              "      <th>lettr</th>\n",
              "      <th>x-box</th>\n",
              "      <th>y-box</th>\n",
              "      <th>width</th>\n",
              "      <th>height</th>\n",
              "      <th>onpix</th>\n",
              "      <th>x-bar</th>\n",
              "      <th>y-bar</th>\n",
              "      <th>x2bar</th>\n",
              "      <th>y2bar</th>\n",
              "      <th>xybar</th>\n",
              "      <th>x2ybr</th>\n",
              "      <th>xy2br</th>\n",
              "      <th>x-ege</th>\n",
              "      <th>xegvy</th>\n",
              "      <th>y-ege</th>\n",
              "      <th>yegvx</th>\n",
              "    </tr>\n",
              "  </thead>\n",
              "  <tbody>\n",
              "    <tr>\n",
              "      <th>0</th>\n",
              "      <td>T</td>\n",
              "      <td>2</td>\n",
              "      <td>8</td>\n",
              "      <td>3</td>\n",
              "      <td>5</td>\n",
              "      <td>1</td>\n",
              "      <td>8</td>\n",
              "      <td>13</td>\n",
              "      <td>0</td>\n",
              "      <td>6</td>\n",
              "      <td>6</td>\n",
              "      <td>10</td>\n",
              "      <td>8</td>\n",
              "      <td>0</td>\n",
              "      <td>8</td>\n",
              "      <td>0</td>\n",
              "      <td>8</td>\n",
              "    </tr>\n",
              "    <tr>\n",
              "      <th>1</th>\n",
              "      <td>I</td>\n",
              "      <td>5</td>\n",
              "      <td>12</td>\n",
              "      <td>3</td>\n",
              "      <td>7</td>\n",
              "      <td>2</td>\n",
              "      <td>10</td>\n",
              "      <td>5</td>\n",
              "      <td>5</td>\n",
              "      <td>4</td>\n",
              "      <td>13</td>\n",
              "      <td>3</td>\n",
              "      <td>9</td>\n",
              "      <td>2</td>\n",
              "      <td>8</td>\n",
              "      <td>4</td>\n",
              "      <td>10</td>\n",
              "    </tr>\n",
              "    <tr>\n",
              "      <th>2</th>\n",
              "      <td>D</td>\n",
              "      <td>4</td>\n",
              "      <td>11</td>\n",
              "      <td>6</td>\n",
              "      <td>8</td>\n",
              "      <td>6</td>\n",
              "      <td>10</td>\n",
              "      <td>6</td>\n",
              "      <td>2</td>\n",
              "      <td>6</td>\n",
              "      <td>10</td>\n",
              "      <td>3</td>\n",
              "      <td>7</td>\n",
              "      <td>3</td>\n",
              "      <td>7</td>\n",
              "      <td>3</td>\n",
              "      <td>9</td>\n",
              "    </tr>\n",
              "    <tr>\n",
              "      <th>3</th>\n",
              "      <td>N</td>\n",
              "      <td>7</td>\n",
              "      <td>11</td>\n",
              "      <td>6</td>\n",
              "      <td>6</td>\n",
              "      <td>3</td>\n",
              "      <td>5</td>\n",
              "      <td>9</td>\n",
              "      <td>4</td>\n",
              "      <td>6</td>\n",
              "      <td>4</td>\n",
              "      <td>4</td>\n",
              "      <td>10</td>\n",
              "      <td>6</td>\n",
              "      <td>10</td>\n",
              "      <td>2</td>\n",
              "      <td>8</td>\n",
              "    </tr>\n",
              "    <tr>\n",
              "      <th>4</th>\n",
              "      <td>G</td>\n",
              "      <td>2</td>\n",
              "      <td>1</td>\n",
              "      <td>3</td>\n",
              "      <td>1</td>\n",
              "      <td>1</td>\n",
              "      <td>8</td>\n",
              "      <td>6</td>\n",
              "      <td>6</td>\n",
              "      <td>6</td>\n",
              "      <td>6</td>\n",
              "      <td>5</td>\n",
              "      <td>9</td>\n",
              "      <td>1</td>\n",
              "      <td>7</td>\n",
              "      <td>5</td>\n",
              "      <td>10</td>\n",
              "    </tr>\n",
              "    <tr>\n",
              "      <th>...</th>\n",
              "      <td>...</td>\n",
              "      <td>...</td>\n",
              "      <td>...</td>\n",
              "      <td>...</td>\n",
              "      <td>...</td>\n",
              "      <td>...</td>\n",
              "      <td>...</td>\n",
              "      <td>...</td>\n",
              "      <td>...</td>\n",
              "      <td>...</td>\n",
              "      <td>...</td>\n",
              "      <td>...</td>\n",
              "      <td>...</td>\n",
              "      <td>...</td>\n",
              "      <td>...</td>\n",
              "      <td>...</td>\n",
              "      <td>...</td>\n",
              "    </tr>\n",
              "    <tr>\n",
              "      <th>19995</th>\n",
              "      <td>D</td>\n",
              "      <td>2</td>\n",
              "      <td>2</td>\n",
              "      <td>3</td>\n",
              "      <td>3</td>\n",
              "      <td>2</td>\n",
              "      <td>7</td>\n",
              "      <td>7</td>\n",
              "      <td>7</td>\n",
              "      <td>6</td>\n",
              "      <td>6</td>\n",
              "      <td>6</td>\n",
              "      <td>4</td>\n",
              "      <td>2</td>\n",
              "      <td>8</td>\n",
              "      <td>3</td>\n",
              "      <td>7</td>\n",
              "    </tr>\n",
              "    <tr>\n",
              "      <th>19996</th>\n",
              "      <td>C</td>\n",
              "      <td>7</td>\n",
              "      <td>10</td>\n",
              "      <td>8</td>\n",
              "      <td>8</td>\n",
              "      <td>4</td>\n",
              "      <td>4</td>\n",
              "      <td>8</td>\n",
              "      <td>6</td>\n",
              "      <td>9</td>\n",
              "      <td>12</td>\n",
              "      <td>9</td>\n",
              "      <td>13</td>\n",
              "      <td>2</td>\n",
              "      <td>9</td>\n",
              "      <td>3</td>\n",
              "      <td>7</td>\n",
              "    </tr>\n",
              "    <tr>\n",
              "      <th>19997</th>\n",
              "      <td>T</td>\n",
              "      <td>6</td>\n",
              "      <td>9</td>\n",
              "      <td>6</td>\n",
              "      <td>7</td>\n",
              "      <td>5</td>\n",
              "      <td>6</td>\n",
              "      <td>11</td>\n",
              "      <td>3</td>\n",
              "      <td>7</td>\n",
              "      <td>11</td>\n",
              "      <td>9</td>\n",
              "      <td>5</td>\n",
              "      <td>2</td>\n",
              "      <td>12</td>\n",
              "      <td>2</td>\n",
              "      <td>4</td>\n",
              "    </tr>\n",
              "    <tr>\n",
              "      <th>19998</th>\n",
              "      <td>S</td>\n",
              "      <td>2</td>\n",
              "      <td>3</td>\n",
              "      <td>4</td>\n",
              "      <td>2</td>\n",
              "      <td>1</td>\n",
              "      <td>8</td>\n",
              "      <td>7</td>\n",
              "      <td>2</td>\n",
              "      <td>6</td>\n",
              "      <td>10</td>\n",
              "      <td>6</td>\n",
              "      <td>8</td>\n",
              "      <td>1</td>\n",
              "      <td>9</td>\n",
              "      <td>5</td>\n",
              "      <td>8</td>\n",
              "    </tr>\n",
              "    <tr>\n",
              "      <th>19999</th>\n",
              "      <td>A</td>\n",
              "      <td>4</td>\n",
              "      <td>9</td>\n",
              "      <td>6</td>\n",
              "      <td>6</td>\n",
              "      <td>2</td>\n",
              "      <td>9</td>\n",
              "      <td>5</td>\n",
              "      <td>3</td>\n",
              "      <td>1</td>\n",
              "      <td>8</td>\n",
              "      <td>1</td>\n",
              "      <td>8</td>\n",
              "      <td>2</td>\n",
              "      <td>7</td>\n",
              "      <td>2</td>\n",
              "      <td>8</td>\n",
              "    </tr>\n",
              "  </tbody>\n",
              "</table>\n",
              "<p>20000 rows × 17 columns</p>\n",
              "</div>\n",
              "      <button class=\"colab-df-convert\" onclick=\"convertToInteractive('df-2915da94-4cfa-439e-82d2-93e31cd808c0')\"\n",
              "              title=\"Convert this dataframe to an interactive table.\"\n",
              "              style=\"display:none;\">\n",
              "        \n",
              "  <svg xmlns=\"http://www.w3.org/2000/svg\" height=\"24px\"viewBox=\"0 0 24 24\"\n",
              "       width=\"24px\">\n",
              "    <path d=\"M0 0h24v24H0V0z\" fill=\"none\"/>\n",
              "    <path d=\"M18.56 5.44l.94 2.06.94-2.06 2.06-.94-2.06-.94-.94-2.06-.94 2.06-2.06.94zm-11 1L8.5 8.5l.94-2.06 2.06-.94-2.06-.94L8.5 2.5l-.94 2.06-2.06.94zm10 10l.94 2.06.94-2.06 2.06-.94-2.06-.94-.94-2.06-.94 2.06-2.06.94z\"/><path d=\"M17.41 7.96l-1.37-1.37c-.4-.4-.92-.59-1.43-.59-.52 0-1.04.2-1.43.59L10.3 9.45l-7.72 7.72c-.78.78-.78 2.05 0 2.83L4 21.41c.39.39.9.59 1.41.59.51 0 1.02-.2 1.41-.59l7.78-7.78 2.81-2.81c.8-.78.8-2.07 0-2.86zM5.41 20L4 18.59l7.72-7.72 1.47 1.35L5.41 20z\"/>\n",
              "  </svg>\n",
              "      </button>\n",
              "      \n",
              "  <style>\n",
              "    .colab-df-container {\n",
              "      display:flex;\n",
              "      flex-wrap:wrap;\n",
              "      gap: 12px;\n",
              "    }\n",
              "\n",
              "    .colab-df-convert {\n",
              "      background-color: #E8F0FE;\n",
              "      border: none;\n",
              "      border-radius: 50%;\n",
              "      cursor: pointer;\n",
              "      display: none;\n",
              "      fill: #1967D2;\n",
              "      height: 32px;\n",
              "      padding: 0 0 0 0;\n",
              "      width: 32px;\n",
              "    }\n",
              "\n",
              "    .colab-df-convert:hover {\n",
              "      background-color: #E2EBFA;\n",
              "      box-shadow: 0px 1px 2px rgba(60, 64, 67, 0.3), 0px 1px 3px 1px rgba(60, 64, 67, 0.15);\n",
              "      fill: #174EA6;\n",
              "    }\n",
              "\n",
              "    [theme=dark] .colab-df-convert {\n",
              "      background-color: #3B4455;\n",
              "      fill: #D2E3FC;\n",
              "    }\n",
              "\n",
              "    [theme=dark] .colab-df-convert:hover {\n",
              "      background-color: #434B5C;\n",
              "      box-shadow: 0px 1px 3px 1px rgba(0, 0, 0, 0.15);\n",
              "      filter: drop-shadow(0px 1px 2px rgba(0, 0, 0, 0.3));\n",
              "      fill: #FFFFFF;\n",
              "    }\n",
              "  </style>\n",
              "\n",
              "      <script>\n",
              "        const buttonEl =\n",
              "          document.querySelector('#df-2915da94-4cfa-439e-82d2-93e31cd808c0 button.colab-df-convert');\n",
              "        buttonEl.style.display =\n",
              "          google.colab.kernel.accessAllowed ? 'block' : 'none';\n",
              "\n",
              "        async function convertToInteractive(key) {\n",
              "          const element = document.querySelector('#df-2915da94-4cfa-439e-82d2-93e31cd808c0');\n",
              "          const dataTable =\n",
              "            await google.colab.kernel.invokeFunction('convertToInteractive',\n",
              "                                                     [key], {});\n",
              "          if (!dataTable) return;\n",
              "\n",
              "          const docLinkHtml = 'Like what you see? Visit the ' +\n",
              "            '<a target=\"_blank\" href=https://colab.research.google.com/notebooks/data_table.ipynb>data table notebook</a>'\n",
              "            + ' to learn more about interactive tables.';\n",
              "          element.innerHTML = '';\n",
              "          dataTable['output_type'] = 'display_data';\n",
              "          await google.colab.output.renderOutput(dataTable, element);\n",
              "          const docLink = document.createElement('div');\n",
              "          docLink.innerHTML = docLinkHtml;\n",
              "          element.appendChild(docLink);\n",
              "        }\n",
              "      </script>\n",
              "    </div>\n",
              "  </div>\n",
              "  "
            ]
          },
          "metadata": {},
          "execution_count": 90
        }
      ],
      "source": [
        "df"
      ]
    },
    {
      "cell_type": "code",
      "execution_count": 91,
      "metadata": {
        "colab": {
          "base_uri": "https://localhost:8080/"
        },
        "id": "asdf9zfSNmqd",
        "outputId": "84a4db65-6e0e-40a3-82bd-2fe61e4bc4c1"
      },
      "outputs": [
        {
          "output_type": "execute_result",
          "data": {
            "text/plain": [
              "(20000, 17)"
            ]
          },
          "metadata": {},
          "execution_count": 91
        }
      ],
      "source": [
        "df.shape"
      ]
    },
    {
      "cell_type": "code",
      "execution_count": 93,
      "metadata": {
        "id": "AwUkzNCrN3Ar"
      },
      "outputs": [],
      "source": [
        "x = df.drop(df.columns[0],axis = 1).values"
      ]
    },
    {
      "cell_type": "code",
      "execution_count": 94,
      "metadata": {
        "id": "VTAUatzaOXm9"
      },
      "outputs": [],
      "source": [
        "y = df[df.columns[0]].values"
      ]
    },
    {
      "cell_type": "code",
      "execution_count": 96,
      "metadata": {
        "colab": {
          "base_uri": "https://localhost:8080/"
        },
        "id": "nsTAkkW4Ocng",
        "outputId": "78450c2c-7a72-44b2-90bf-0d9ad41c2ba2"
      },
      "outputs": [
        {
          "output_type": "execute_result",
          "data": {
            "text/plain": [
              "(20000, 16)"
            ]
          },
          "metadata": {},
          "execution_count": 96
        }
      ],
      "source": [
        "x.shape"
      ]
    },
    {
      "cell_type": "code",
      "source": [
        "y.shape"
      ],
      "metadata": {
        "colab": {
          "base_uri": "https://localhost:8080/"
        },
        "id": "d-MvpFCaOzo3",
        "outputId": "5a929c7d-2824-4b54-9483-a92e4e427e3d"
      },
      "execution_count": 97,
      "outputs": [
        {
          "output_type": "execute_result",
          "data": {
            "text/plain": [
              "(20000,)"
            ]
          },
          "metadata": {},
          "execution_count": 97
        }
      ]
    },
    {
      "cell_type": "code",
      "source": [
        "np.unique(y)"
      ],
      "metadata": {
        "colab": {
          "base_uri": "https://localhost:8080/"
        },
        "id": "eJKAF8NFO3lr",
        "outputId": "37d6f18a-3c68-4909-cf3b-40f7d79b1cd9"
      },
      "execution_count": 98,
      "outputs": [
        {
          "output_type": "execute_result",
          "data": {
            "text/plain": [
              "array(['A', 'B', 'C', 'D', 'E', 'F', 'G', 'H', 'I', 'J', 'K', 'L', 'M',\n",
              "       'N', 'O', 'P', 'Q', 'R', 'S', 'T', 'U', 'V', 'W', 'X', 'Y', 'Z'],\n",
              "      dtype=object)"
            ]
          },
          "metadata": {},
          "execution_count": 98
        }
      ]
    },
    {
      "cell_type": "code",
      "source": [
        "x_train,x_test,y_train,y_test=train_test_split(x,y,test_size=0.2)"
      ],
      "metadata": {
        "id": "-_qrLCfXO73J"
      },
      "execution_count": 99,
      "outputs": []
    },
    {
      "cell_type": "code",
      "source": [
        "x_train[0]"
      ],
      "metadata": {
        "colab": {
          "base_uri": "https://localhost:8080/"
        },
        "id": "gnvYm6yBPGfW",
        "outputId": "16a596ed-b050-4270-8391-412cae60a129"
      },
      "execution_count": 100,
      "outputs": [
        {
          "output_type": "execute_result",
          "data": {
            "text/plain": [
              "array([ 4,  9,  5,  7,  3,  5,  7,  6,  5, 10,  8, 10,  2,  8,  5,  9])"
            ]
          },
          "metadata": {},
          "execution_count": 100
        }
      ]
    },
    {
      "cell_type": "code",
      "source": [
        "y_train[0]"
      ],
      "metadata": {
        "colab": {
          "base_uri": "https://localhost:8080/",
          "height": 36
        },
        "id": "yWBj5mjVPKqC",
        "outputId": "1fff52c4-a686-4775-ada8-cc3aa46fd85f"
      },
      "execution_count": 101,
      "outputs": [
        {
          "output_type": "execute_result",
          "data": {
            "text/plain": [
              "'G'"
            ],
            "application/vnd.google.colaboratory.intrinsic+json": {
              "type": "string"
            }
          },
          "metadata": {},
          "execution_count": 101
        }
      ]
    },
    {
      "cell_type": "code",
      "source": [
        "class_names = ['A','B','C','D','E','F','G','H','I','J','K','L','M','N','O','P','Q','R','S','T','U','V','W','X','Y','Z']"
      ],
      "metadata": {
        "id": "Y_wf2c95PWjg"
      },
      "execution_count": 102,
      "outputs": []
    },
    {
      "cell_type": "code",
      "source": [
        "x_test[10]"
      ],
      "metadata": {
        "colab": {
          "base_uri": "https://localhost:8080/"
        },
        "id": "EpyAjzkTQNX3",
        "outputId": "9e49a864-6b5e-4138-dd06-a93a8d101f3a"
      },
      "execution_count": 103,
      "outputs": [
        {
          "output_type": "execute_result",
          "data": {
            "text/plain": [
              "array([ 2, 10,  4,  7,  1, 10, 14,  1,  6,  4, 11,  9,  0,  8,  0,  8])"
            ]
          },
          "metadata": {},
          "execution_count": 103
        }
      ]
    },
    {
      "cell_type": "code",
      "source": [
        "y_test[10]"
      ],
      "metadata": {
        "colab": {
          "base_uri": "https://localhost:8080/",
          "height": 36
        },
        "id": "rVttQl39QQjc",
        "outputId": "87446938-959f-4b75-96d2-729a53bc293b"
      },
      "execution_count": 104,
      "outputs": [
        {
          "output_type": "execute_result",
          "data": {
            "text/plain": [
              "'T'"
            ],
            "application/vnd.google.colaboratory.intrinsic+json": {
              "type": "string"
            }
          },
          "metadata": {},
          "execution_count": 104
        }
      ]
    },
    {
      "cell_type": "code",
      "source": [
        "x_train = x_train/255\n",
        "x_test = x_test/255"
      ],
      "metadata": {
        "id": "jx9Ak6kxQYZk"
      },
      "execution_count": 105,
      "outputs": []
    },
    {
      "cell_type": "code",
      "source": [
        "from sklearn.preprocessing import LabelEncoder\n",
        "encoder = LabelEncoder()\n",
        "y_train = encoder.fit_transform(y_train)\n",
        "y_test = encoder.fit_transform(y_test)"
      ],
      "metadata": {
        "id": "MdUQUEq-Q0K1"
      },
      "execution_count": 106,
      "outputs": []
    },
    {
      "cell_type": "code",
      "source": [
        "from tensorflow.keras.models import Sequential\n",
        "from tensorflow.keras.layers import Dense,Dropout"
      ],
      "metadata": {
        "id": "DrSLRj2IRRI6"
      },
      "execution_count": 107,
      "outputs": []
    },
    {
      "cell_type": "code",
      "source": [
        "model = Sequential()\n",
        "model.add(Dense(512,activation='relu',input_shape = (x_train[0].shape)))\n",
        "model.add(Dropout(0.2))\n",
        "model.add(Dense(256,activation='relu'))\n",
        "model.add(Dropout(0.2))\n",
        "model.add(Dense(26,activation = 'softmax'))\n",
        "model.compile(optimizer = 'adam', loss = 'sparse_categorical_crossentropy', metrics = ['accuracy'])\n",
        "model.summary()"
      ],
      "metadata": {
        "colab": {
          "base_uri": "https://localhost:8080/"
        },
        "id": "B_OPXFWrRfhy",
        "outputId": "d13497a0-12c9-4a86-eb56-771d113814cf"
      },
      "execution_count": 108,
      "outputs": [
        {
          "output_type": "stream",
          "name": "stdout",
          "text": [
            "Model: \"sequential_3\"\n",
            "_________________________________________________________________\n",
            " Layer (type)                Output Shape              Param #   \n",
            "=================================================================\n",
            " dense_9 (Dense)             (None, 512)               8704      \n",
            "                                                                 \n",
            " dropout_6 (Dropout)         (None, 512)               0         \n",
            "                                                                 \n",
            " dense_10 (Dense)            (None, 256)               131328    \n",
            "                                                                 \n",
            " dropout_7 (Dropout)         (None, 256)               0         \n",
            "                                                                 \n",
            " dense_11 (Dense)            (None, 26)                6682      \n",
            "                                                                 \n",
            "=================================================================\n",
            "Total params: 146,714\n",
            "Trainable params: 146,714\n",
            "Non-trainable params: 0\n",
            "_________________________________________________________________\n"
          ]
        }
      ]
    },
    {
      "cell_type": "code",
      "source": [
        "model.fit(x_train,y_train,epochs = 50,batch_size=128,verbose=1,validation_data=(x_test,y_test))\n"
      ],
      "metadata": {
        "colab": {
          "base_uri": "https://localhost:8080/"
        },
        "id": "gck6ZzkySeX8",
        "outputId": "cb7c60db-f41f-457b-9c33-8ecd41852f98"
      },
      "execution_count": 109,
      "outputs": [
        {
          "output_type": "stream",
          "name": "stdout",
          "text": [
            "Epoch 1/50\n",
            "125/125 [==============================] - 2s 9ms/step - loss: 3.1467 - accuracy: 0.1318 - val_loss: 2.8118 - val_accuracy: 0.2570\n",
            "Epoch 2/50\n",
            "125/125 [==============================] - 1s 7ms/step - loss: 2.3955 - accuracy: 0.3124 - val_loss: 2.0901 - val_accuracy: 0.4065\n",
            "Epoch 3/50\n",
            "125/125 [==============================] - 1s 7ms/step - loss: 1.9553 - accuracy: 0.4116 - val_loss: 1.7667 - val_accuracy: 0.4865\n",
            "Epoch 4/50\n",
            "125/125 [==============================] - 1s 7ms/step - loss: 1.7427 - accuracy: 0.4649 - val_loss: 1.6240 - val_accuracy: 0.5148\n",
            "Epoch 5/50\n",
            "125/125 [==============================] - 1s 8ms/step - loss: 1.6269 - accuracy: 0.5006 - val_loss: 1.5102 - val_accuracy: 0.5558\n",
            "Epoch 6/50\n",
            "125/125 [==============================] - 1s 8ms/step - loss: 1.5323 - accuracy: 0.5356 - val_loss: 1.4491 - val_accuracy: 0.5775\n",
            "Epoch 7/50\n",
            "125/125 [==============================] - 1s 7ms/step - loss: 1.4645 - accuracy: 0.5592 - val_loss: 1.3640 - val_accuracy: 0.5982\n",
            "Epoch 8/50\n",
            "125/125 [==============================] - 1s 7ms/step - loss: 1.3976 - accuracy: 0.5795 - val_loss: 1.3129 - val_accuracy: 0.6233\n",
            "Epoch 9/50\n",
            "125/125 [==============================] - 1s 10ms/step - loss: 1.3421 - accuracy: 0.5997 - val_loss: 1.2556 - val_accuracy: 0.6378\n",
            "Epoch 10/50\n",
            "125/125 [==============================] - 1s 11ms/step - loss: 1.2923 - accuracy: 0.6130 - val_loss: 1.2088 - val_accuracy: 0.6465\n",
            "Epoch 11/50\n",
            "125/125 [==============================] - 1s 7ms/step - loss: 1.2381 - accuracy: 0.6298 - val_loss: 1.1740 - val_accuracy: 0.6572\n",
            "Epoch 12/50\n",
            "125/125 [==============================] - 1s 7ms/step - loss: 1.1995 - accuracy: 0.6419 - val_loss: 1.1180 - val_accuracy: 0.6735\n",
            "Epoch 13/50\n",
            "125/125 [==============================] - 1s 7ms/step - loss: 1.1582 - accuracy: 0.6564 - val_loss: 1.0763 - val_accuracy: 0.6740\n",
            "Epoch 14/50\n",
            "125/125 [==============================] - 1s 8ms/step - loss: 1.1168 - accuracy: 0.6681 - val_loss: 1.0475 - val_accuracy: 0.6930\n",
            "Epoch 15/50\n",
            "125/125 [==============================] - 1s 8ms/step - loss: 1.0795 - accuracy: 0.6803 - val_loss: 1.0053 - val_accuracy: 0.7007\n",
            "Epoch 16/50\n",
            "125/125 [==============================] - 1s 8ms/step - loss: 1.0516 - accuracy: 0.6851 - val_loss: 0.9701 - val_accuracy: 0.7168\n",
            "Epoch 17/50\n",
            "125/125 [==============================] - 1s 7ms/step - loss: 1.0199 - accuracy: 0.7001 - val_loss: 0.9391 - val_accuracy: 0.7222\n",
            "Epoch 18/50\n",
            "125/125 [==============================] - 1s 8ms/step - loss: 0.9894 - accuracy: 0.7057 - val_loss: 0.9177 - val_accuracy: 0.7232\n",
            "Epoch 19/50\n",
            "125/125 [==============================] - 1s 8ms/step - loss: 0.9676 - accuracy: 0.7119 - val_loss: 0.8884 - val_accuracy: 0.7370\n",
            "Epoch 20/50\n",
            "125/125 [==============================] - 1s 8ms/step - loss: 0.9420 - accuracy: 0.7194 - val_loss: 0.8725 - val_accuracy: 0.7445\n",
            "Epoch 21/50\n",
            "125/125 [==============================] - 1s 7ms/step - loss: 0.9163 - accuracy: 0.7280 - val_loss: 0.8551 - val_accuracy: 0.7360\n",
            "Epoch 22/50\n",
            "125/125 [==============================] - 3s 21ms/step - loss: 0.9004 - accuracy: 0.7330 - val_loss: 0.8275 - val_accuracy: 0.7513\n",
            "Epoch 23/50\n",
            "125/125 [==============================] - 2s 14ms/step - loss: 0.8772 - accuracy: 0.7374 - val_loss: 0.8010 - val_accuracy: 0.7648\n",
            "Epoch 24/50\n",
            "125/125 [==============================] - 2s 14ms/step - loss: 0.8620 - accuracy: 0.7408 - val_loss: 0.7891 - val_accuracy: 0.7665\n",
            "Epoch 25/50\n",
            "125/125 [==============================] - 1s 7ms/step - loss: 0.8390 - accuracy: 0.7451 - val_loss: 0.7773 - val_accuracy: 0.7653\n",
            "Epoch 26/50\n",
            "125/125 [==============================] - 1s 8ms/step - loss: 0.8275 - accuracy: 0.7478 - val_loss: 0.7513 - val_accuracy: 0.7795\n",
            "Epoch 27/50\n",
            "125/125 [==============================] - 1s 8ms/step - loss: 0.8129 - accuracy: 0.7549 - val_loss: 0.7416 - val_accuracy: 0.7793\n",
            "Epoch 28/50\n",
            "125/125 [==============================] - 1s 8ms/step - loss: 0.7944 - accuracy: 0.7570 - val_loss: 0.7372 - val_accuracy: 0.7730\n",
            "Epoch 29/50\n",
            "125/125 [==============================] - 1s 7ms/step - loss: 0.7778 - accuracy: 0.7650 - val_loss: 0.7273 - val_accuracy: 0.7778\n",
            "Epoch 30/50\n",
            "125/125 [==============================] - 1s 8ms/step - loss: 0.7685 - accuracy: 0.7659 - val_loss: 0.6867 - val_accuracy: 0.8018\n",
            "Epoch 31/50\n",
            "125/125 [==============================] - 1s 7ms/step - loss: 0.7552 - accuracy: 0.7692 - val_loss: 0.6785 - val_accuracy: 0.7947\n",
            "Epoch 32/50\n",
            "125/125 [==============================] - 1s 10ms/step - loss: 0.7426 - accuracy: 0.7726 - val_loss: 0.6835 - val_accuracy: 0.7883\n",
            "Epoch 33/50\n",
            "125/125 [==============================] - 1s 11ms/step - loss: 0.7225 - accuracy: 0.7771 - val_loss: 0.6471 - val_accuracy: 0.8077\n",
            "Epoch 34/50\n",
            "125/125 [==============================] - 1s 8ms/step - loss: 0.7119 - accuracy: 0.7841 - val_loss: 0.6414 - val_accuracy: 0.8067\n",
            "Epoch 35/50\n",
            "125/125 [==============================] - 1s 7ms/step - loss: 0.6976 - accuracy: 0.7851 - val_loss: 0.6143 - val_accuracy: 0.8195\n",
            "Epoch 36/50\n",
            "125/125 [==============================] - 1s 8ms/step - loss: 0.6838 - accuracy: 0.7923 - val_loss: 0.6116 - val_accuracy: 0.8142\n",
            "Epoch 37/50\n",
            "125/125 [==============================] - 1s 7ms/step - loss: 0.6768 - accuracy: 0.7940 - val_loss: 0.6144 - val_accuracy: 0.8130\n",
            "Epoch 38/50\n",
            "125/125 [==============================] - 1s 7ms/step - loss: 0.6691 - accuracy: 0.7964 - val_loss: 0.5803 - val_accuracy: 0.8295\n",
            "Epoch 39/50\n",
            "125/125 [==============================] - 1s 7ms/step - loss: 0.6538 - accuracy: 0.7967 - val_loss: 0.5748 - val_accuracy: 0.8307\n",
            "Epoch 40/50\n",
            "125/125 [==============================] - 1s 7ms/step - loss: 0.6400 - accuracy: 0.8026 - val_loss: 0.5643 - val_accuracy: 0.8330\n",
            "Epoch 41/50\n",
            "125/125 [==============================] - 1s 8ms/step - loss: 0.6311 - accuracy: 0.8041 - val_loss: 0.5569 - val_accuracy: 0.8365\n",
            "Epoch 42/50\n",
            "125/125 [==============================] - 1s 8ms/step - loss: 0.6205 - accuracy: 0.8083 - val_loss: 0.5394 - val_accuracy: 0.8430\n",
            "Epoch 43/50\n",
            "125/125 [==============================] - 1s 8ms/step - loss: 0.6124 - accuracy: 0.8119 - val_loss: 0.5258 - val_accuracy: 0.8450\n",
            "Epoch 44/50\n",
            "125/125 [==============================] - 1s 8ms/step - loss: 0.6024 - accuracy: 0.8157 - val_loss: 0.5238 - val_accuracy: 0.8438\n",
            "Epoch 45/50\n",
            "125/125 [==============================] - 1s 11ms/step - loss: 0.5976 - accuracy: 0.8153 - val_loss: 0.5120 - val_accuracy: 0.8493\n",
            "Epoch 46/50\n",
            "125/125 [==============================] - 1s 11ms/step - loss: 0.5828 - accuracy: 0.8178 - val_loss: 0.5071 - val_accuracy: 0.8533\n",
            "Epoch 47/50\n",
            "125/125 [==============================] - 1s 8ms/step - loss: 0.5802 - accuracy: 0.8225 - val_loss: 0.4986 - val_accuracy: 0.8558\n",
            "Epoch 48/50\n",
            "125/125 [==============================] - 1s 8ms/step - loss: 0.5631 - accuracy: 0.8277 - val_loss: 0.4998 - val_accuracy: 0.8482\n",
            "Epoch 49/50\n",
            "125/125 [==============================] - 1s 8ms/step - loss: 0.5544 - accuracy: 0.8283 - val_loss: 0.4799 - val_accuracy: 0.8562\n",
            "Epoch 50/50\n",
            "125/125 [==============================] - 1s 7ms/step - loss: 0.5513 - accuracy: 0.8288 - val_loss: 0.4726 - val_accuracy: 0.8643\n"
          ]
        },
        {
          "output_type": "execute_result",
          "data": {
            "text/plain": [
              "<keras.callbacks.History at 0x7f22d0d6b670>"
            ]
          },
          "metadata": {},
          "execution_count": 109
        }
      ]
    },
    {
      "cell_type": "code",
      "source": [
        "x_test[10]"
      ],
      "metadata": {
        "colab": {
          "base_uri": "https://localhost:8080/"
        },
        "id": "a_fr9xwvTNMt",
        "outputId": "fbdee9f1-1f81-4c24-8bac-1d2367c7360b"
      },
      "execution_count": 110,
      "outputs": [
        {
          "output_type": "execute_result",
          "data": {
            "text/plain": [
              "array([0.00784314, 0.03921569, 0.01568627, 0.02745098, 0.00392157,\n",
              "       0.03921569, 0.05490196, 0.00392157, 0.02352941, 0.01568627,\n",
              "       0.04313725, 0.03529412, 0.        , 0.03137255, 0.        ,\n",
              "       0.03137255])"
            ]
          },
          "metadata": {},
          "execution_count": 110
        }
      ]
    },
    {
      "cell_type": "code",
      "source": [
        "y_test[10]"
      ],
      "metadata": {
        "colab": {
          "base_uri": "https://localhost:8080/"
        },
        "id": "kNY9pk45TQof",
        "outputId": "5554c9db-3dc8-4059-e2b6-4b8821497b59"
      },
      "execution_count": 111,
      "outputs": [
        {
          "output_type": "execute_result",
          "data": {
            "text/plain": [
              "19"
            ]
          },
          "metadata": {},
          "execution_count": 111
        }
      ]
    },
    {
      "cell_type": "code",
      "source": [
        "predictions = model.predict(x_test)"
      ],
      "metadata": {
        "colab": {
          "base_uri": "https://localhost:8080/"
        },
        "id": "oKQWVqMYTaY7",
        "outputId": "47efa176-7b05-4b47-c80d-4c11e466e053"
      },
      "execution_count": 112,
      "outputs": [
        {
          "output_type": "stream",
          "name": "stdout",
          "text": [
            "125/125 [==============================] - 0s 1ms/step\n"
          ]
        }
      ]
    },
    {
      "cell_type": "code",
      "source": [
        "index = 10\n",
        "print(predictions[index])\n",
        "final_value=np.argmax(predictions[index])\n",
        "print(\"Actual label :\",y_test[index])\n",
        "print(\"Predicted label\",final_value)\n",
        "print(\"Class A-Z\",class_names[final_value])"
      ],
      "metadata": {
        "colab": {
          "base_uri": "https://localhost:8080/"
        },
        "id": "OG5cL_66ThXq",
        "outputId": "55ae649c-2984-42c1-a3d6-f4af510fbd59"
      },
      "execution_count": 113,
      "outputs": [
        {
          "output_type": "stream",
          "name": "stdout",
          "text": [
            "[5.3781507e-10 3.1128798e-24 1.8746069e-10 2.7172772e-17 3.1119662e-16\n",
            " 1.6934453e-06 4.0577216e-21 2.7337544e-11 1.0114093e-03 1.7807898e-10\n",
            " 4.3754293e-12 2.8943522e-14 1.1824132e-24 9.8803534e-14 3.8782319e-21\n",
            " 3.3620906e-13 1.9293113e-15 7.8133622e-26 4.2456719e-10 9.9836242e-01\n",
            " 9.2423527e-11 1.3952105e-06 1.3722227e-20 3.4882592e-05 5.8824924e-04\n",
            " 5.2670685e-22]\n",
            "Actual label : 19\n",
            "Predicted label 19\n",
            "Class A-Z T\n"
          ]
        }
      ]
    }
  ],
  "metadata": {
    "colab": {
      "provenance": []
    },
    "kernelspec": {
      "display_name": "Python 3",
      "name": "python3"
    },
    "language_info": {
      "name": "python"
    }
  },
  "nbformat": 4,
  "nbformat_minor": 0
}